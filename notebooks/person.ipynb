{
 "cells": [
  {
   "cell_type": "code",
   "execution_count": 1,
   "metadata": {},
   "outputs": [],
   "source": [
    "# A person class for spoofing Google\n",
    "\n",
    "# your phone tracks:\n",
    "# steps\n",
    "# heartrate\n",
    "# current location\n",
    "# activity type: sleep, wake, walking, driving\n",
    "\n",
    "# it can make inferences about calories burned, \n",
    "# do address place lookups, and current establishments\n",
    "\n",
    "# location is updated > 14x/hour\n",
    "# ad domains\n",
    "# camera\n",
    "# microphone\n",
    "# call log\n",
    "# SMS messages"
   ]
  },
  {
   "cell_type": "markdown",
   "metadata": {},
   "source": [
    "> Since the spoofer is kind of like the Other's \"heart\" and \"eyes\" in terms of the data it produces, the idea of it existing in the gallery is kind of spooky, in a good way!  Sort of like physical proof of the coldness and inaccuracy of the data collected.  I like how the first image looks very technical.  The fact that it's generating quantitative versions of \"emotions\" makes that really funny.  \n",
    "\n",
    "> I've also been thinking about how this project might exist online as well.  Since it is a simulated person, having feeds for the \"eyes\" (the Google Earth images\", the \"heart\" (moods/sleep/BPM), and whatever may correlate to the Amazon searches (\"brain\", maybe?) could be interesting as well!  "
   ]
  },
  {
   "cell_type": "code",
   "execution_count": 13,
   "metadata": {},
   "outputs": [],
   "source": [
    "import time\n",
    "import logging\n",
    "import json\n",
    "\n",
    "from shapely.geometry import Point\n",
    "from shapely.wkt import dumps, loads\n",
    "from peewee import *"
   ]
  },
  {
   "cell_type": "code",
   "execution_count": 14,
   "metadata": {},
   "outputs": [],
   "source": [
    "DEBUG = True\n",
    "logger = logging.getLogger(__name__)\n",
    "\n",
    "if DEBUG:\n",
    "    db = SqliteDatabase(':memory:')\n",
    "else:\n",
    "    db = SqliteDatabase('other.db')"
   ]
  },
  {
   "cell_type": "code",
   "execution_count": 15,
   "metadata": {},
   "outputs": [],
   "source": [
    "class BaseModel(Model):\n",
    "    class Meta:\n",
    "        database = db\n",
    "\n",
    "class Person(BaseModel):\n",
    "    name = CharField()\n",
    "\n",
    "    def get_mytimepoints(self):\n",
    "        return self.timepoints\n",
    "\n",
    "class Brain(BaseModel):\n",
    "    actor = ForeignKeyField(Person, backref='shoppingurls')\n",
    "    timestamp = TimestampField()\n",
    "    urls = []\n",
    "    \n",
    "class Eyes(BaseModel):\n",
    "    actor = ForeignKeyField(Person, backref='streetviews')\n",
    "    timestamp = TimestampField()\n",
    "\n",
    "    streetviews = []\n",
    "    \n",
    "class Heart(BaseModel):\n",
    "    actor = ForeignKeyField(Person, backref='heartbeats')\n",
    "    timestamp = TimestampField()\n",
    "\n",
    "    heartrate = []\n",
    "    \n",
    "class Legs(BaseModel):\n",
    "    actor = ForeignKeyField(Person, backref='steps')\n",
    "    timestamp = TimestampField()\n",
    "\n",
    "    steps = []\n",
    "    \n",
    "class Timepoint(BaseModel):\n",
    "    actor = ForeignKeyField(Person, backref='timepoints')\n",
    "    timestamp = TimestampField()\n",
    "    point = CharField()\n",
    "    mode = CharField()\n",
    "\n",
    "    def __repr__(self):\n",
    "        return self.timestamp, self.mode, loads(self.point)\n",
    "\n",
    "\n",
    "class Step(BaseModel):\n",
    "    # do we count steps individually\n",
    "    # or count them in a 24 hour period?\n",
    "    actor = ForeignKeyField(Person, backref='steps')\n",
    "    steps = IntegerField()\n",
    "    timestamp = TimestampField()"
   ]
  },
  {
   "cell_type": "code",
   "execution_count": 5,
   "metadata": {},
   "outputs": [],
   "source": [
    "# Connect to our database.\n",
    "# db.connect()\n",
    "\n",
    "# Create the tables.\n",
    "db.create_tables([Person,Timepoint,Step])"
   ]
  },
  {
   "cell_type": "code",
   "execution_count": 6,
   "metadata": {},
   "outputs": [
    {
     "data": {
      "text/plain": [
       "1"
      ]
     },
     "execution_count": 6,
     "metadata": {},
     "output_type": "execute_result"
    }
   ],
   "source": [
    "other = Person.create(name='OTHER')\n",
    "other.save()"
   ]
  },
  {
   "cell_type": "code",
   "execution_count": 7,
   "metadata": {},
   "outputs": [
    {
     "data": {
      "text/plain": [
       "1"
      ]
     },
     "execution_count": 7,
     "metadata": {},
     "output_type": "execute_result"
    }
   ],
   "source": [
    "unionstation = Point(34.0562, -118.2365)\n",
    "Timepoint.insert(actor=1, point=dumps(unionstation), mode=\"WALK\").execute()"
   ]
  },
  {
   "cell_type": "code",
   "execution_count": 8,
   "metadata": {},
   "outputs": [
    {
     "name": "stdout",
     "output_type": "stream",
     "text": [
      "<Person: 1>\n"
     ]
    }
   ],
   "source": [
    "print(other.__repr__())"
   ]
  },
  {
   "cell_type": "code",
   "execution_count": 9,
   "metadata": {},
   "outputs": [
    {
     "data": {
      "text/plain": [
       "2"
      ]
     },
     "execution_count": 9,
     "metadata": {},
     "output_type": "execute_result"
    }
   ],
   "source": [
    "avenel = Point(34.109950,-118.269000)\n",
    "Timepoint.insert(actor=1, point=dumps(avenel), mode=\"WALK\").execute()"
   ]
  },
  {
   "cell_type": "code",
   "execution_count": 10,
   "metadata": {},
   "outputs": [
    {
     "name": "stdout",
     "output_type": "stream",
     "text": [
      "1 POINT (34.0562 -118.2365) 2019-06-03 13:25:01 WALK\n",
      "1 POINT (34.10995 -118.269) 2019-06-03 13:25:04 WALK\n"
     ]
    }
   ],
   "source": [
    "for tp in Person.get_by_id(1).timepoints:\n",
    "    print(tp.actor,loads(tp.point),tp.timestamp,tp.mode)"
   ]
  },
  {
   "cell_type": "code",
   "execution_count": 11,
   "metadata": {},
   "outputs": [
    {
     "data": {
      "text/plain": [
       "1"
      ]
     },
     "execution_count": 11,
     "metadata": {},
     "output_type": "execute_result"
    }
   ],
   "source": [
    "Step.insert(actor=1, steps=1).execute()"
   ]
  },
  {
   "cell_type": "code",
   "execution_count": 12,
   "metadata": {},
   "outputs": [
    {
     "name": "stdout",
     "output_type": "stream",
     "text": [
      "1 1 2019-06-03 13:25:05\n"
     ]
    }
   ],
   "source": [
    "for tp in Person.get_by_id(1).steps:\n",
    "    print(tp.actor,tp.steps,tp.timestamp)"
   ]
  },
  {
   "cell_type": "code",
   "execution_count": 17,
   "metadata": {},
   "outputs": [],
   "source": [
    "import simplejson as json"
   ]
  },
  {
   "cell_type": "code",
   "execution_count": 20,
   "metadata": {},
   "outputs": [],
   "source": [
    "heartratedata = \"../data/heartrate.json\"\n",
    "# this is 24 hours of heart-rate sampled on average every 2.76 seconds\n",
    "# time has the format \"19:14:00\" \"%H:%m:%S\"\n",
    "# appears to be UTC/GMT\n",
    "\n",
    "# [{\n",
    "#   \"time\" : \"08:00:07\",\n",
    "#   \"value\" : {\n",
    "#     \"bpm\" : 78,\n",
    "#     \"confidence\" : 2\n",
    "#   }\n",
    "# }\n",
    "\n",
    "sleepdata = \"../data/sleep.json\"\n",
    "\n",
    "\n",
    "stepdata = \"../data/steps.json\"\n",
    "# datetime has the format \"Tue 19:14:00\" \"%a %H:%m:%S\"\n",
    "# appears to be UTC/GMT\n",
    "\n",
    "# [{\n",
    "#   \"dateTime\" : \"Sat 08:03:00\",\n",
    "#   \"value\" : \"0\"\n",
    "# },"
   ]
  },
  {
   "cell_type": "code",
   "execution_count": 36,
   "metadata": {},
   "outputs": [],
   "source": [
    "with open(heartratedata, 'r') as f:\n",
    "    json_text = f.read()"
   ]
  },
  {
   "cell_type": "code",
   "execution_count": 37,
   "metadata": {},
   "outputs": [],
   "source": [
    "heartrate_list = json.loads(json_text)\n",
    "# print(heartrate_dict['explanation'])"
   ]
  },
  {
   "cell_type": "code",
   "execution_count": 40,
   "metadata": {},
   "outputs": [
    {
     "data": {
      "text/plain": [
       "('08:02:02', 79)"
      ]
     },
     "execution_count": 40,
     "metadata": {},
     "output_type": "execute_result"
    }
   ],
   "source": [
    "heartrate_list[10]['time'],heartrate_list[10]['value']['bpm']"
   ]
  },
  {
   "cell_type": "code",
   "execution_count": 34,
   "metadata": {},
   "outputs": [
    {
     "data": {
      "text/plain": [
       "79"
      ]
     },
     "execution_count": 34,
     "metadata": {},
     "output_type": "execute_result"
    }
   ],
   "source": [
    "heartrate_list[10]['value']['bpm']"
   ]
  },
  {
   "cell_type": "code",
   "execution_count": 47,
   "metadata": {},
   "outputs": [
    {
     "name": "stdout",
     "output_type": "stream",
     "text": [
      "55219\n"
     ]
    }
   ],
   "source": [
    "from datetime import datetime\n",
    "\n",
    "now = datetime.now()\n",
    "seconds_since_midnight = (now - now.replace(hour=0, minute=0, second=0, microsecond=0)).total_seconds()\n",
    "\n",
    "print( int(seconds_since_midnight) )"
   ]
  },
  {
   "cell_type": "code",
   "execution_count": 50,
   "metadata": {},
   "outputs": [
    {
     "name": "stdout",
     "output_type": "stream",
     "text": [
      "time.struct_time(tm_year=1900, tm_mon=2, tm_mday=1, tm_hour=8, tm_min=0, tm_sec=2, tm_wday=3, tm_yday=32, tm_isdst=-1)\n"
     ]
    }
   ],
   "source": [
    "\n",
    "d = time.strptime(\"08:02:02\", \"%H:%m:%S\")\n",
    "print(d)"
   ]
  },
  {
   "cell_type": "code",
   "execution_count": 55,
   "metadata": {},
   "outputs": [
    {
     "name": "stdout",
     "output_type": "stream",
     "text": [
      "2\n"
     ]
    }
   ],
   "source": [
    "d = datetime.strptime(\"08:02:02\", \"%H:%m:%S\").second\n",
    "print (d)"
   ]
  },
  {
   "cell_type": "code",
   "execution_count": 97,
   "metadata": {},
   "outputs": [],
   "source": [
    "def gimmeSeconds(thetime=\"08:02:02\", thefmt=\"%H:%M:%S\"):\n",
    "    s = datetime.strptime(thetime, thefmt).second * 1\n",
    "    ms = datetime.strptime(thetime, thefmt).minute * 60\n",
    "    hs = datetime.strptime(thetime, thefmt).hour * 360\n",
    "#     print(s,ms,hs,datetime.strptime(\"01:13:12\", thefmt).minute)\n",
    "    return int(s+ms+hs)"
   ]
  },
  {
   "cell_type": "code",
   "execution_count": 100,
   "metadata": {},
   "outputs": [
    {
     "data": {
      "text/plain": [
       "3002"
      ]
     },
     "execution_count": 100,
     "metadata": {},
     "output_type": "execute_result"
    }
   ],
   "source": [
    "gimmeSeconds()"
   ]
  },
  {
   "cell_type": "code",
   "execution_count": null,
   "metadata": {},
   "outputs": [],
   "source": []
  },
  {
   "cell_type": "code",
   "execution_count": null,
   "metadata": {},
   "outputs": [],
   "source": []
  }
 ],
 "metadata": {
  "kernelspec": {
   "display_name": "Python 3",
   "language": "python",
   "name": "python3"
  },
  "language_info": {
   "codemirror_mode": {
    "name": "ipython",
    "version": 3
   },
   "file_extension": ".py",
   "mimetype": "text/x-python",
   "name": "python",
   "nbconvert_exporter": "python",
   "pygments_lexer": "ipython3",
   "version": "3.7.3"
  }
 },
 "nbformat": 4,
 "nbformat_minor": 2
}
