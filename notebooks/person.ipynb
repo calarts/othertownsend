{
 "cells": [
  {
   "cell_type": "code",
   "execution_count": 1,
   "metadata": {},
   "outputs": [],
   "source": [
    "# A person class for spoofing Google\n",
    "\n",
    "# your phone tracks:\n",
    "# steps\n",
    "# heartrate\n",
    "# current location\n",
    "# activity type: sleep, wake, walking, driving\n",
    "\n",
    "# it can make inferences about calories burned, \n",
    "# do address place lookups, and current establishments\n",
    "\n",
    "# location is updated > 14x/hour\n",
    "# ad domains\n",
    "# camera\n",
    "# microphone\n",
    "# call log\n",
    "# SMS messages"
   ]
  },
  {
   "cell_type": "markdown",
   "metadata": {},
   "source": [
    "> Since the spoofer is kind of like the Other's \"heart\" and \"eyes\" in terms of the data it produces, the idea of it existing in the gallery is kind of spooky, in a good way!  Sort of like physical proof of the coldness and inaccuracy of the data collected.  I like how the first image looks very technical.  The fact that it's generating quantitative versions of \"emotions\" makes that really funny.  \n",
    "\n",
    "> I've also been thinking about how this project might exist online as well.  Since it is a simulated person, having feeds for the \"eyes\" (the Google Earth images\", the \"heart\" (moods/sleep/BPM), and whatever may correlate to the Amazon searches (\"brain\", maybe?) could be interesting as well!  "
   ]
  },
  {
   "cell_type": "code",
   "execution_count": 28,
   "metadata": {},
   "outputs": [],
   "source": [
    "import time\n",
    "import logging\n",
    "import json\n",
    "from datetime import datetime\n",
    "import csv,sys\n",
    "\n",
    "from shapely.geometry import Point\n",
    "from shapely.wkt import dumps, loads\n",
    "from peewee import *"
   ]
  },
  {
   "cell_type": "code",
   "execution_count": 14,
   "metadata": {},
   "outputs": [],
   "source": [
    "DEBUG = True\n",
    "logger = logging.getLogger(__name__)\n",
    "\n",
    "if DEBUG:\n",
    "    db = SqliteDatabase(':memory:')\n",
    "else:\n",
    "    db = SqliteDatabase('other.db')"
   ]
  },
  {
   "cell_type": "code",
   "execution_count": 15,
   "metadata": {},
   "outputs": [],
   "source": [
    "class BaseModel(Model):\n",
    "    class Meta:\n",
    "        database = db\n",
    "\n",
    "class Person(BaseModel):\n",
    "    name = CharField()\n",
    "\n",
    "    def get_mytimepoints(self):\n",
    "        return self.timepoints\n",
    "\n",
    "class Brain(BaseModel):\n",
    "    actor = ForeignKeyField(Person, backref='shoppingurls')\n",
    "    timestamp = TimestampField()\n",
    "    urls = []\n",
    "    \n",
    "class Eyes(BaseModel):\n",
    "    actor = ForeignKeyField(Person, backref='streetviews')\n",
    "    timestamp = TimestampField()\n",
    "\n",
    "    streetviews = []\n",
    "    \n",
    "class Heart(BaseModel):\n",
    "    actor = ForeignKeyField(Person, backref='heartbeats')\n",
    "    timestamp = TimestampField()\n",
    "\n",
    "    heartrate = []\n",
    "    \n",
    "class Legs(BaseModel):\n",
    "    actor = ForeignKeyField(Person, backref='steps')\n",
    "    timestamp = TimestampField()\n",
    "\n",
    "    steps = []\n",
    "    \n",
    "class Timepoint(BaseModel):\n",
    "    actor = ForeignKeyField(Person, backref='timepoints')\n",
    "    timestamp = TimestampField()\n",
    "    point = CharField()\n",
    "    mode = CharField()\n",
    "\n",
    "    def __repr__(self):\n",
    "        return self.timestamp, self.mode, loads(self.point)\n",
    "\n",
    "\n",
    "class Step(BaseModel):\n",
    "    # do we count steps individually\n",
    "    # or count them in a 24 hour period?\n",
    "    actor = ForeignKeyField(Person, backref='steps')\n",
    "    steps = IntegerField()\n",
    "    timestamp = TimestampField()"
   ]
  },
  {
   "cell_type": "code",
   "execution_count": 5,
   "metadata": {},
   "outputs": [],
   "source": [
    "# Connect to our database.\n",
    "# db.connect()\n",
    "\n",
    "# Create the tables.\n",
    "db.create_tables([Person,Timepoint,Step])"
   ]
  },
  {
   "cell_type": "code",
   "execution_count": 6,
   "metadata": {},
   "outputs": [
    {
     "data": {
      "text/plain": [
       "1"
      ]
     },
     "execution_count": 6,
     "metadata": {},
     "output_type": "execute_result"
    }
   ],
   "source": [
    "other = Person.create(name='OTHER')\n",
    "other.save()"
   ]
  },
  {
   "cell_type": "code",
   "execution_count": 7,
   "metadata": {},
   "outputs": [
    {
     "data": {
      "text/plain": [
       "1"
      ]
     },
     "execution_count": 7,
     "metadata": {},
     "output_type": "execute_result"
    }
   ],
   "source": [
    "unionstation = Point(34.0562, -118.2365)\n",
    "Timepoint.insert(actor=1, point=dumps(unionstation), mode=\"WALK\").execute()"
   ]
  },
  {
   "cell_type": "code",
   "execution_count": 8,
   "metadata": {},
   "outputs": [
    {
     "name": "stdout",
     "output_type": "stream",
     "text": [
      "<Person: 1>\n"
     ]
    }
   ],
   "source": [
    "print(other.__repr__())"
   ]
  },
  {
   "cell_type": "code",
   "execution_count": 9,
   "metadata": {},
   "outputs": [
    {
     "data": {
      "text/plain": [
       "2"
      ]
     },
     "execution_count": 9,
     "metadata": {},
     "output_type": "execute_result"
    }
   ],
   "source": [
    "avenel = Point(34.109950,-118.269000)\n",
    "Timepoint.insert(actor=1, point=dumps(avenel), mode=\"WALK\").execute()"
   ]
  },
  {
   "cell_type": "code",
   "execution_count": 10,
   "metadata": {},
   "outputs": [
    {
     "name": "stdout",
     "output_type": "stream",
     "text": [
      "1 POINT (34.0562 -118.2365) 2019-06-03 13:25:01 WALK\n",
      "1 POINT (34.10995 -118.269) 2019-06-03 13:25:04 WALK\n"
     ]
    }
   ],
   "source": [
    "for tp in Person.get_by_id(1).timepoints:\n",
    "    print(tp.actor,loads(tp.point),tp.timestamp,tp.mode)"
   ]
  },
  {
   "cell_type": "code",
   "execution_count": 11,
   "metadata": {},
   "outputs": [
    {
     "data": {
      "text/plain": [
       "1"
      ]
     },
     "execution_count": 11,
     "metadata": {},
     "output_type": "execute_result"
    }
   ],
   "source": [
    "Step.insert(actor=1, steps=1).execute()"
   ]
  },
  {
   "cell_type": "code",
   "execution_count": 12,
   "metadata": {},
   "outputs": [
    {
     "name": "stdout",
     "output_type": "stream",
     "text": [
      "1 1 2019-06-03 13:25:05\n"
     ]
    }
   ],
   "source": [
    "for tp in Person.get_by_id(1).steps:\n",
    "    print(tp.actor,tp.steps,tp.timestamp)"
   ]
  },
  {
   "cell_type": "code",
   "execution_count": 17,
   "metadata": {},
   "outputs": [],
   "source": [
    "import simplejson as json"
   ]
  },
  {
   "cell_type": "code",
   "execution_count": 16,
   "metadata": {},
   "outputs": [],
   "source": [
    "heartratedata = \"../data/heartrate.json\"\n",
    "# this is 24 hours of heart-rate sampled on average every 2.76 seconds\n",
    "# time has the format \"19:14:00\" \"%H:%M:%S\"\n",
    "# appears to be UTC/GMT\n",
    "\n",
    "# [{\n",
    "#   \"time\" : \"08:00:07\",\n",
    "#   \"value\" : {\n",
    "#     \"bpm\" : 78,\n",
    "#     \"confidence\" : 2\n",
    "#   }\n",
    "# }\n",
    "\n",
    "sleepdata = \"../data/sleep.json\"\n",
    "\n",
    "\n",
    "stepdata = \"../data/steps.json\"\n",
    "# datetime has the format \"Tue 19:14:00\" \"%a %H:%M:%S\"\n",
    "# appears to be UTC/GMT\n",
    "\n",
    "# [{\n",
    "#   \"dateTime\" : \"Sat 08:03:00\",\n",
    "#   \"value\" : \"0\"\n",
    "# },"
   ]
  },
  {
   "cell_type": "code",
   "execution_count": 39,
   "metadata": {},
   "outputs": [],
   "source": [
    "def gimmeSeconds(thetime=\"08:02:02\", thefmt=\"%H:%M:%S\"):\n",
    "    s = datetime.strptime(thetime, thefmt).second * 1\n",
    "    ms = datetime.strptime(thetime, thefmt).minute * 60\n",
    "    hs = datetime.strptime(thetime, thefmt).hour * 3600\n",
    "    return int(s+ms+hs)"
   ]
  },
  {
   "cell_type": "code",
   "execution_count": 44,
   "metadata": {},
   "outputs": [],
   "source": [
    "def gimmecurseconds():\n",
    "    now = datetime.now()\n",
    "    secs_since_midnight = (now - now.replace(hour=0, minute=0, second=0, microsecond=0)).total_seconds()\n",
    "    return int(secs_since_midnight)"
   ]
  },
  {
   "cell_type": "code",
   "execution_count": 164,
   "metadata": {},
   "outputs": [],
   "source": [
    "def gimmeclosestkv(alistofdicts):\n",
    "    # this lamely searches through the list twice!\n",
    "    # put it in a db instead and do some sql!\n",
    "    mykeys = set().union(*(d.keys() for d in alistofdicts))\n",
    "    mykey = min(mykeys, key=lambda x:abs(x - gimmecurseconds() ))\n",
    "    \n",
    "    for index in range(len(heartrate_list)):\n",
    "        for key in heartrate_list[index]:\n",
    "            if key == mykey:\n",
    "                mybpm = heartrate_list[index][key]\n",
    "    \n",
    "    return mykey,mybpm"
   ]
  },
  {
   "cell_type": "code",
   "execution_count": 33,
   "metadata": {},
   "outputs": [],
   "source": [
    "with open(heartratedata, 'r') as f:\n",
    "    json_text = f.read()"
   ]
  },
  {
   "cell_type": "code",
   "execution_count": 40,
   "metadata": {},
   "outputs": [],
   "source": [
    "heartrate_list = json.loads(json_text)"
   ]
  },
  {
   "cell_type": "code",
   "execution_count": 36,
   "metadata": {},
   "outputs": [],
   "source": [
    "# prepare the heartrate.csv file\n",
    "\n",
    "# f = open('../data/heartrate.csv', 'wt')\n",
    "# writer = csv.writer(f)\n",
    "# writer.writerow( ('sec', 'bpm') )\n",
    "# for rec in heartrate_list:\n",
    "#     secs = gimmeSeconds(rec['time'])\n",
    "#     bpm = rec['value']['bpm']\n",
    "#     writer.writerow((secs,bpm))\n",
    "# f.close()"
   ]
  },
  {
   "cell_type": "code",
   "execution_count": 68,
   "metadata": {},
   "outputs": [],
   "source": [
    "# open the heartrate.csv file\n",
    "\n",
    "f = open('../data/heartrate.csv', 'rt')\n",
    "heartrate_list = []\n",
    "heartrate_list_keys = []\n",
    "\n",
    "reader = csv.reader(f)\n",
    "for row in reader:\n",
    "    heartrate_list_keys.append(row[0])"
   ]
  },
  {
   "cell_type": "code",
   "execution_count": 169,
   "metadata": {},
   "outputs": [],
   "source": [
    "heartrate_list = []\n",
    "\n",
    "with open('../data/heartrate.csv', 'r') as csvfile:\n",
    "    csvreader = csv.reader(csvfile)\n",
    "    # This skips the first row of the CSV file.\n",
    "    # csvreader.next() also works in Python 2.\n",
    "    next(csvreader)\n",
    "    for row in csvreader:\n",
    "        heartrate_list.append( {int(row[0]):int(row[1])} )"
   ]
  },
  {
   "cell_type": "code",
   "execution_count": 170,
   "metadata": {},
   "outputs": [
    {
     "name": "stdout",
     "output_type": "stream",
     "text": [
      "secs since mid 65267 closest key, bpm (65263, 81)\n"
     ]
    }
   ],
   "source": [
    "# what's our heart rate?\n",
    "print(\"secs since mid\",gimmecurseconds(),\"closest key, bpm\",gimmeclosestkv(heartrate_list))"
   ]
  },
  {
   "cell_type": "code",
   "execution_count": null,
   "metadata": {},
   "outputs": [],
   "source": []
  }
 ],
 "metadata": {
  "kernelspec": {
   "display_name": "Python 3",
   "language": "python",
   "name": "python3"
  },
  "language_info": {
   "codemirror_mode": {
    "name": "ipython",
    "version": 3
   },
   "file_extension": ".py",
   "mimetype": "text/x-python",
   "name": "python",
   "nbconvert_exporter": "python",
   "pygments_lexer": "ipython3",
   "version": "3.7.3"
  }
 },
 "nbformat": 4,
 "nbformat_minor": 2
}
