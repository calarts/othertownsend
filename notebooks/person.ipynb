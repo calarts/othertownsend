{
 "cells": [
  {
   "cell_type": "code",
   "execution_count": 16,
   "metadata": {},
   "outputs": [],
   "source": [
    "# A person class for spoofing Google\n",
    "\n",
    "# your phone tracks:\n",
    "# steps\n",
    "# heartrate\n",
    "# current location\n",
    "# activity type: sleep, wake, walking, driving\n",
    "\n",
    "# it can make inferences about calories burned, \n",
    "# do address place lookups, and current establishments\n",
    "\n",
    "# location is updated > 14x/hour\n",
    "# ad domains\n",
    "# camera\n",
    "# microphone\n",
    "# call log\n",
    "# SMS messages"
   ]
  },
  {
   "cell_type": "markdown",
   "metadata": {},
   "source": [
    "> Since the spoofer is kind of like the Other's \"heart\" and \"eyes\" in terms of the data it produces, the idea of it existing in the gallery is kind of spooky, in a good way!  Sort of like physical proof of the coldness and inaccuracy of the data collected.  I like how the first image looks very technical.  The fact that it's generating quantitative versions of \"emotions\" makes that really funny.  \n",
    "\n",
    "> I've also been thinking about how this project might exist online as well.  Since it is a simulated person, having feeds for the \"eyes\" (the Google Earth images\", the \"heart\" (moods/sleep/BPM), and whatever may correlate to the Amazon searches (\"brain\", maybe?) could be interesting as well!  "
   ]
  },
  {
   "cell_type": "code",
   "execution_count": 17,
   "metadata": {},
   "outputs": [],
   "source": [
    "# import time\n",
    "import logging\n",
    "import json\n",
    "from datetime import datetime\n",
    "import csv,sys\n",
    "\n",
    "import simplejson as json\n",
    "from shapely.geometry import Point\n",
    "from shapely.wkt import dumps, loads\n",
    "from peewee import *"
   ]
  },
  {
   "cell_type": "code",
   "execution_count": 18,
   "metadata": {},
   "outputs": [],
   "source": [
    "DEBUG = True\n",
    "logger = logging.getLogger(__name__)\n",
    "\n",
    "if DEBUG:\n",
    "    mydb = SqliteDatabase(':memory:')\n",
    "else:\n",
    "    mydb = SqliteDatabase(\"other.db\")\n",
    "    \n",
    "# TZ METHOD 1: Hardcode zones:\n",
    "# from_zone = tz.gettz('UTC')\n",
    "# to_zone = tz.gettz('America/New_York')\n",
    "\n",
    "# Use modular math => 7 hours behind UTC = (-360*8) (-2880)\n",
    "# x = (x - 2880) % 86400"
   ]
  },
  {
   "cell_type": "code",
   "execution_count": 19,
   "metadata": {},
   "outputs": [],
   "source": [
    "heartratedata = \"../data/heartrate.json\"\n",
    "# this is 24 hours of heart-rate sampled on average every 2.76 seconds\n",
    "# time has the format \"19:14:00\" \"%H:%M:%S\"\n",
    "# appears to be UTC/GMT! Do we wnt to transform to local time? YES\n",
    "\n",
    "# [{\n",
    "#   \"time\" : \"08:00:07\",\n",
    "#   \"value\" : {\n",
    "#     \"bpm\" : 78,\n",
    "#     \"confidence\" : 2\n",
    "#   }\n",
    "# }\n",
    "\n",
    "sleepdata = \"../data/sleep.json\"\n",
    "\n",
    "\n",
    "timepointdata = \"../data/locations.csv\"\n",
    "# Start Time,End Time,Name,Latitude,Longitude\n",
    "# lat/lng has been transformed and spoofed for Northern CA\n",
    "# ten days were compressed into one for variety. \n",
    "\n",
    "stepdata = \"../data/steps_monday.json\"\n",
    "# datetime has the format \"Tue 19:14:00\" \"%a %H:%M:%S\"\n",
    "# appears to be UTC/GMT\n",
    "\n",
    "# [{\n",
    "#   \"dateTime\" : \"Sat 08:03:00\",\n",
    "#   \"value\" : \"0\"\n",
    "# },"
   ]
  },
  {
   "cell_type": "code",
   "execution_count": 33,
   "metadata": {},
   "outputs": [],
   "source": [
    "def gimmeFeelings(myday=int(datetime.today().day)):\n",
    "    feels = [\"💛\",\"💜\",\"💜\",\"💛\",\"💜\",\"💜\",\"💛\",\n",
    "        \"💛\",\"💛\",\"💛\",\"💛\",\"💛\",\"💜\",\"💜\",\n",
    "        \"💛\",\"💜\",\"💜\",\"💛\",\"💛\",\"💜\",\"💛\",\n",
    "        \"💜\",\"💛\",\"💛\",\"💜\",\"💜\",\"💛\",\"💛\",\n",
    "        \"💜\",\"💛\",\"💛\",\"💛\",\"💜\",\"💛\",\"💜\"]\n",
    "    sleeps = [\"➖\",\"〰️\",\"➖\",\"➖\",\"➖\",\"➖\",\"〰️\",\n",
    "        \"➖\",\"〰️\",\"➖\",\"〰️\",\"➖\",\"➖\",\"➖\",\n",
    "        \"➖\",\"➖\",\"➖\",\"〰️\",\"➖\",\"➖\",\"➖\",\n",
    "        \"➖\",\"➖\",\"➖\",\"➖\",\"〰️\",\"➖\",\"〰️\",\n",
    "        \"➖\",\"〰️\",\"➖\",\"➖\",\"➖\",\"➖\",\"➖\"]\n",
    "    \n",
    "    return feels[myday], sleeps[myday]\n",
    "\n",
    "def gimmeSeconds(thetime=\"08:02:02\", thefmt=\"%H:%M:%S\", timeadjust=0):\n",
    "    s = datetime.strptime(thetime, thefmt).second * 1\n",
    "    ms = datetime.strptime(thetime, thefmt).minute * 60\n",
    "    hs = datetime.strptime(thetime, thefmt).hour * 3600\n",
    "\n",
    "    if (timeadjust != 0):\n",
    "        # timeadjust is set in hours\n",
    "        correction = (timeadjust*360)\n",
    "        utcsecs = int(s+ms+hs)\n",
    "        # LAX is 7 hours behind UTC, -2520 seconds\n",
    "        localsecs = (utcsecs-correction)% 86400\n",
    "    else:\n",
    "        localsecs = int(s+ms+hs)\n",
    "\n",
    "    return int(localsecs)\n",
    "\n",
    "def gimmecurseconds():\n",
    "    now = datetime.now()     # should be local time!\n",
    "    secs_since_midnight = (now - now.replace(hour=0, minute=0, second=0, microsecond=0)).total_seconds()\n",
    "    return int(secs_since_midnight)\n",
    "\n",
    "def gimmeclosestkv(mykeys):\n",
    "#     mykeys = set().union(*(d.keys() for d in alistofdicts))\n",
    "    mykey = min(mykeys, key=lambda x:abs(x - gimmecurseconds() ))\n",
    "    q = Heart.select().where(Heart.timestamp == int(mykey))\n",
    "    for entry in q:\n",
    "        mybpm = entry.bpm    \n",
    "\n",
    "    return mykey,mybpm\n",
    "\n",
    "def gimmecurrsteps(mykeys):\n",
    "    mykey = min(mykeys, key=lambda x:abs(x - gimmecurseconds() ))\n",
    "    q = Step.select().where(Step.timestamp == int(mykey))\n",
    "    for entry in q:\n",
    "        mysteps = entry.steps    \n",
    "\n",
    "    return mykey,mysteps\n",
    "\n",
    "def gimmeclosestplace():\n",
    "#     mykeys = set().union(*(d.keys() for d in alistofdicts))\n",
    "    # get the keys by querying the timepoints\n",
    "    mykeys = []\n",
    "    q = Place.select()\n",
    "    for entry in q:\n",
    "        mykeys.append(int(entry.timestamp))\n",
    "\n",
    "    mykey = min(mykeys, key=lambda x:abs(x - gimmecurseconds() ))\n",
    "\n",
    "    q = Place.select().where(Place.timestamp == int(mykey))\n",
    "    for entry in q:\n",
    "        myplce = entry.point\n",
    "\n",
    "    return mykey,myplce"
   ]
  },
  {
   "cell_type": "code",
   "execution_count": 22,
   "metadata": {},
   "outputs": [],
   "source": [
    "def createPersondb(mydb):\n",
    "    try:\n",
    "        other, created = Person.get_or_create(name='OTHER')\n",
    "    except:\n",
    "        mydb.create_tables([Person])\n",
    "        other, created = Person.get_or_create(name='OTHER')\n",
    "\n",
    "    \n",
    "    print(\"Person table is ready and 'OTHER' was created\", created)\n",
    "    return other"
   ]
  },
  {
   "cell_type": "code",
   "execution_count": 23,
   "metadata": {},
   "outputs": [],
   "source": [
    "# Create the HEART table.\n",
    "# Run this ONLY ONCE IN PRODUCTION!\n",
    "\n",
    "def createHeartdb(mydb):\n",
    "    with open(heartratedata, 'r') as f:\n",
    "        json_text = f.read()\n",
    "\n",
    "    heartrate_list = json.loads(json_text)\n",
    "\n",
    "    for rec in heartrate_list:\n",
    "        secs = gimmeSeconds(thetime=rec['time'], thefmt=\"%H:%M:%S\", timeadjust=-7)\n",
    "        bpm = rec['value']['bpm']\n",
    "\n",
    "        try:\n",
    "            beats, created = Heart.get_or_create(actor=other, timestamp=secs, bpm=bpm)\n",
    "        except:\n",
    "            mydb.create_tables([Heart])\n",
    "            beats = Heart.create(actor=other, timestamp=secs, bpm=bpm)\n",
    "            beats.save()\n",
    "        \n",
    "    print(\"Heart table is ready and 'beats' was created\", created)"
   ]
  },
  {
   "cell_type": "code",
   "execution_count": 24,
   "metadata": {},
   "outputs": [],
   "source": [
    "# Create the Step table.\n",
    "# Run this ONLY ONCE IN PRODUCTION!\n",
    "\n",
    "# [{\n",
    "#   \"dateTime\" : \"Sat 08:03:00\",\n",
    "#   \"value\" : \"0\"\n",
    "# },\n",
    "\n",
    "# actor = ForeignKeyField(Person, backref='steps')\n",
    "# steps = IntegerField()\n",
    "# timestamp = IntegerField()\n",
    "\n",
    "def createStepdb(mydb):\n",
    "    with open(stepdata, 'r') as f:\n",
    "        json_text = f.read()\n",
    "\n",
    "    step_list = json.loads(json_text)\n",
    "\n",
    "    for rec in step_list:\n",
    "        secs = gimmeSeconds(rec['dateTime'], thefmt=\"%a %H:%M:%S\", timeadjust=0)\n",
    "        val = rec['value']\n",
    "\n",
    "        try:\n",
    "            steps, created = Step.get_or_create(actor=other, timestamp=secs, steps=val)\n",
    "        except:\n",
    "            mydb.create_tables([Step])\n",
    "            steps = Step.create(actor=other, timestamp=secs, steps=val)\n",
    "            steps.save()\n",
    "        \n",
    "    print(\"Step table is ready and 'steps' was created\", created)"
   ]
  },
  {
   "cell_type": "code",
   "execution_count": 25,
   "metadata": {},
   "outputs": [],
   "source": [
    "def createPlacedb(mydb):\n",
    "    with open(timepointdata, 'r') as csvfile:\n",
    "        csvreader = csv.reader(csvfile)\n",
    "        # This skips the first row of the CSV file.\n",
    "        next(csvreader)\n",
    "        for row in csvreader:\n",
    "            mypoint = Point(float(row[3]), float(row[4]))\n",
    "            try:\n",
    "                tp, created = Place.get_or_create(actor=other, timestamp=gimmeSeconds(thetime=row[0], timeadjust=-7), point=dumps(mypoint), mode=\"WALK\")\n",
    "            except:\n",
    "                mydb.create_tables([Place])\n",
    "                tp = Place.create(actor=other, timestamp=gimmeSeconds(thetime=row[0], timeadjust=-7), point=dumps(mypoint), mode=\"WALK\")\n",
    "                tp.save()\n",
    "\n",
    "    print(\"Place table is ready and 'steps' was created\", created)"
   ]
  },
  {
   "cell_type": "code",
   "execution_count": 26,
   "metadata": {},
   "outputs": [
    {
     "name": "stdout",
     "output_type": "stream",
     "text": [
      "Person table is ready and 'OTHER' was created True\n",
      "Heart table is ready and 'beats' was created True\n",
      "Step table is ready and 'steps' was created True\n",
      "Place table is ready and 'steps' was created True\n"
     ]
    }
   ],
   "source": [
    "# create the tables or populate them if necessary\n",
    "\n",
    "other = createPersondb(mydb)\n",
    "createHeartdb(mydb)\n",
    "createStepdb(mydb)\n",
    "createPlacedb(mydb)"
   ]
  },
  {
   "cell_type": "code",
   "execution_count": 27,
   "metadata": {},
   "outputs": [],
   "source": [
    "# You don't want to run these on every query!\n",
    "heartrate_keylist = []\n",
    "q = Heart.select(Heart.timestamp)\n",
    "for t in q:\n",
    "    heartrate_keylist.append( int(t.timestamp) )\n",
    "\n",
    "# You don't want to run this on every query\n",
    "step_keylist = []\n",
    "q = Step.select(Step.timestamp)\n",
    "for t in q:\n",
    "    step_keylist.append( int(t.timestamp) )"
   ]
  },
  {
   "cell_type": "code",
   "execution_count": 28,
   "metadata": {},
   "outputs": [
    {
     "name": "stdout",
     "output_type": "stream",
     "text": [
      "secs since mid 56351 closest key, bpm (56353, 69)\n"
     ]
    }
   ],
   "source": [
    "# what's our heart rate?\n",
    "print(\"secs since mid\",gimmecurseconds(),\"closest key, bpm\",gimmeclosestkv(heartrate_keylist))"
   ]
  },
  {
   "cell_type": "code",
   "execution_count": 29,
   "metadata": {},
   "outputs": [
    {
     "name": "stdout",
     "output_type": "stream",
     "text": [
      "secs since mid 56352 closest key, bpm (60675, 'POINT (37.9219837557683022 -122.5306205502329959)')\n"
     ]
    }
   ],
   "source": [
    "# what's our location?\n",
    "print(\"secs since mid\",gimmecurseconds(),\"closest key, bpm\",gimmeclosestplace())"
   ]
  },
  {
   "cell_type": "code",
   "execution_count": 31,
   "metadata": {},
   "outputs": [
    {
     "name": "stdout",
     "output_type": "stream",
     "text": [
      "secs since mid 57588 closest key, steps (58200, 0)\n"
     ]
    }
   ],
   "source": [
    "# How many steps did we take?\n",
    "print(\"secs since mid\",gimmecurseconds(),\"closest key, steps\",gimmecurrsteps(step_keylist))"
   ]
  },
  {
   "cell_type": "code",
   "execution_count": 45,
   "metadata": {},
   "outputs": [
    {
     "name": "stdout",
     "output_type": "stream",
     "text": [
      "('💜', '➖')\n"
     ]
    }
   ],
   "source": [
    "print(gimmeFeelings())"
   ]
  },
  {
   "cell_type": "code",
   "execution_count": null,
   "metadata": {},
   "outputs": [],
   "source": []
  }
 ],
 "metadata": {
  "kernelspec": {
   "display_name": "Python 3",
   "language": "python",
   "name": "python3"
  },
  "language_info": {
   "codemirror_mode": {
    "name": "ipython",
    "version": 3
   },
   "file_extension": ".py",
   "mimetype": "text/x-python",
   "name": "python",
   "nbconvert_exporter": "python",
   "pygments_lexer": "ipython3",
   "version": "3.7.3"
  }
 },
 "nbformat": 4,
 "nbformat_minor": 2
}
