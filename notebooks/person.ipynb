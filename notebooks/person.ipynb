{
 "cells": [
  {
   "cell_type": "code",
   "execution_count": 1,
   "metadata": {},
   "outputs": [],
   "source": [
    "# A person class for spoofing Google\n",
    "\n",
    "# your phone tracks:\n",
    "# steps\n",
    "# heartrate\n",
    "# current location\n",
    "# activity type: sleep, wake, walking, driving\n",
    "\n",
    "# it can make inferences about calories burned, \n",
    "# do address place lookups, and current establishments\n",
    "\n",
    "# location is updated > 14x/hour\n",
    "# ad domains\n",
    "# camera\n",
    "# microphone\n",
    "# call log\n",
    "# SMS messages"
   ]
  },
  {
   "cell_type": "markdown",
   "metadata": {},
   "source": [
    "> Since the spoofer is kind of like the Other's \"heart\" and \"eyes\" in terms of the data it produces, the idea of it existing in the gallery is kind of spooky, in a good way!  Sort of like physical proof of the coldness and inaccuracy of the data collected.  I like how the first image looks very technical.  The fact that it's generating quantitative versions of \"emotions\" makes that really funny.  \n",
    "\n",
    "> I've also been thinking about how this project might exist online as well.  Since it is a simulated person, having feeds for the \"eyes\" (the Google Earth images\", the \"heart\" (moods/sleep/BPM), and whatever may correlate to the Amazon searches (\"brain\", maybe?) could be interesting as well!  "
   ]
  },
  {
   "cell_type": "code",
   "execution_count": 2,
   "metadata": {},
   "outputs": [],
   "source": [
    "import time\n",
    "import logging\n",
    "import json\n",
    "from datetime import datetime\n",
    "import csv,sys\n",
    "\n",
    "import simplejson as json\n",
    "from shapely.geometry import Point\n",
    "from shapely.wkt import dumps, loads\n",
    "from peewee import *"
   ]
  },
  {
   "cell_type": "code",
   "execution_count": 3,
   "metadata": {},
   "outputs": [],
   "source": [
    "DEBUG = False\n",
    "logger = logging.getLogger(__name__)\n",
    "\n",
    "if DEBUG:\n",
    "    db = SqliteDatabase(':memory:')\n",
    "else:\n",
    "    db = SqliteDatabase('other.db')\n",
    "    \n",
    "# TZ METHOD 1: Hardcode zones:\n",
    "# from_zone = tz.gettz('UTC')\n",
    "# to_zone = tz.gettz('America/New_York')\n",
    "\n",
    "# Use modular math => 7 hours behind UTC = (-360*8) (-2880)\n",
    "# x = (x - 2880) % 86400"
   ]
  },
  {
   "cell_type": "code",
   "execution_count": 4,
   "metadata": {},
   "outputs": [],
   "source": [
    "heartratedata = \"../data/heartrate.json\"\n",
    "# this is 24 hours of heart-rate sampled on average every 2.76 seconds\n",
    "# time has the format \"19:14:00\" \"%H:%M:%S\"\n",
    "# appears to be UTC/GMT! Do we wnt to transform to local time? YES\n",
    "\n",
    "# [{\n",
    "#   \"time\" : \"08:00:07\",\n",
    "#   \"value\" : {\n",
    "#     \"bpm\" : 78,\n",
    "#     \"confidence\" : 2\n",
    "#   }\n",
    "# }\n",
    "\n",
    "sleepdata = \"../data/sleep.json\"\n",
    "\n",
    "\n",
    "timepointdata = \"../data/locations.csv\"\n",
    "# Start Time,End Time,Name,Latitude,Longitude\n",
    "# lat/lng has been transformed and spoofed for Northern CA\n",
    "# ten days were compressed into one for variety. \n",
    "\n",
    "stepdata = \"../data/steps_monday.json\"\n",
    "# datetime has the format \"Tue 19:14:00\" \"%a %H:%M:%S\"\n",
    "# appears to be UTC/GMT\n",
    "\n",
    "# [{\n",
    "#   \"dateTime\" : \"Sat 08:03:00\",\n",
    "#   \"value\" : \"0\"\n",
    "# },"
   ]
  },
  {
   "cell_type": "code",
   "execution_count": 5,
   "metadata": {},
   "outputs": [],
   "source": [
    "class BaseModel(Model):\n",
    "    class Meta:\n",
    "        database = db\n",
    "\n",
    "class Person(BaseModel):\n",
    "    name = CharField()\n",
    "\n",
    "    def get_mytimepoints(self):\n",
    "        return self.timepoints\n",
    "\n",
    "\n",
    "    def get_myheartbeats(self):\n",
    "        return self.heartbeats\n",
    "\n",
    "\n",
    "class Heart(BaseModel):\n",
    "    actor = ForeignKeyField(Person, backref='heartbeats')\n",
    "    timestamp = IntegerField()\n",
    "    bpm = IntegerField()\n",
    "\n",
    "    \n",
    "class Brain(BaseModel):\n",
    "    actor = ForeignKeyField(Person, backref='shoppingurls')\n",
    "    timestamp = TimestampField()\n",
    "    urls = []\n",
    "    \n",
    "class Eyes(BaseModel):\n",
    "    actor = ForeignKeyField(Person, backref='streetviews')\n",
    "    timestamp = TimestampField()\n",
    "\n",
    "    streetviews = []\n",
    "    \n",
    "class Legs(BaseModel):\n",
    "    actor = ForeignKeyField(Person, backref='steps')\n",
    "    timestamp = TimestampField()\n",
    "\n",
    "    steps = []\n",
    "    \n",
    "class Timepoint(BaseModel):\n",
    "    actor = ForeignKeyField(Person, backref='timepoints')\n",
    "    timestamp = IntegerField()\n",
    "    point = CharField()\n",
    "    mode = CharField()\n",
    "\n",
    "    def __repr__(self):\n",
    "        return self.timestamp, self.mode, loads(self.point)\n",
    "\n",
    "\n",
    "class Step(BaseModel):\n",
    "    # do we count steps individually\n",
    "    # or count them in a 24 hour period?\n",
    "    actor = ForeignKeyField(Person, backref='steps')\n",
    "    steps = IntegerField()\n",
    "    timestamp = IntegerField()"
   ]
  },
  {
   "cell_type": "code",
   "execution_count": 6,
   "metadata": {},
   "outputs": [],
   "source": [
    "def gimmeSeconds(thetime=\"08:02:02\", thefmt=\"%H:%M:%S\"):\n",
    "    s = datetime.strptime(thetime, thefmt).second * 1\n",
    "    ms = datetime.strptime(thetime, thefmt).minute * 60\n",
    "    hs = datetime.strptime(thetime, thefmt).hour * 3600\n",
    "\n",
    "    utcsecs = int(s+ms+hs)\n",
    "    # LAX is 7 hours behind UTC, -2520 seconds\n",
    "    localsecs = (utcsecs-2520)% 86400\n",
    "\n",
    "    return int(localsecs)\n",
    "\n",
    "def gimmecurseconds():\n",
    "    now = datetime.now()     # should be local time!\n",
    "    secs_since_midnight = (now - now.replace(hour=0, minute=0, second=0, microsecond=0)).total_seconds()\n",
    "    return int(secs_since_midnight)\n",
    "\n",
    "def gimmeclosestkv(mykeys):\n",
    "#     mykeys = set().union(*(d.keys() for d in alistofdicts))\n",
    "    mykey = min(mykeys, key=lambda x:abs(x - gimmecurseconds() ))\n",
    "    q = Heart.select().where(Heart.timestamp == int(mykey))\n",
    "    for entry in q:\n",
    "        mybpm = entry.bpm    \n",
    "\n",
    "    return mykey,mybpm\n",
    "\n",
    "def gimmecurrsteps(mykeys):\n",
    "    mykey = min(mykeys, key=lambda x:abs(x - gimmecurseconds() ))\n",
    "    q = Step.select().where(Step.timestamp == int(mykey))\n",
    "    for entry in q:\n",
    "        mysteps = entry.steps    \n",
    "\n",
    "    return mykey,mysteps\n",
    "\n",
    "def gimmeclosestplace():\n",
    "#     mykeys = set().union(*(d.keys() for d in alistofdicts))\n",
    "    # get the keys by querying the timepoints\n",
    "    mykeys = []\n",
    "    q = Timepoint.select()\n",
    "    for entry in q:\n",
    "        mykeys.append(int(entry.timestamp))\n",
    "\n",
    "    mykey = min(mykeys, key=lambda x:abs(x - gimmecurseconds() ))\n",
    "\n",
    "    q = Timepoint.select().where(Timepoint.timestamp == int(mykey))\n",
    "    for entry in q:\n",
    "        myplce = entry.point\n",
    "\n",
    "    return mykey,myplce"
   ]
  },
  {
   "cell_type": "code",
   "execution_count": 7,
   "metadata": {},
   "outputs": [
    {
     "data": {
      "text/plain": [
       "1"
      ]
     },
     "execution_count": 7,
     "metadata": {},
     "output_type": "execute_result"
    }
   ],
   "source": [
    "# Create the PERSON table.\n",
    "# Run this ONLY ONCE IN PRODUCTION!\n",
    "db.create_tables([Person])\n",
    "\n",
    "other = Person.create(name='OTHER')\n",
    "other.save()"
   ]
  },
  {
   "cell_type": "code",
   "execution_count": 8,
   "metadata": {},
   "outputs": [],
   "source": [
    "# Create the HEART table.\n",
    "# Run this ONLY ONCE IN PRODUCTION!\n",
    "\n",
    "def createHeartdb():\n",
    "    # Run this ONCE!\n",
    "    db.create_tables([Heart])\n",
    "    \n",
    "    with open(heartratedata, 'r') as f:\n",
    "        json_text = f.read()\n",
    "\n",
    "    heartrate_list = json.loads(json_text)\n",
    "\n",
    "    for rec in heartrate_list:\n",
    "        secs = gimmeSeconds(rec['time'])\n",
    "        bpm = rec['value']['bpm']\n",
    "        beats = Heart.create(actor=other, timestamp=secs, bpm=bpm)\n",
    "        beats.save()\n",
    "\n",
    "createHeartdb()"
   ]
  },
  {
   "cell_type": "code",
   "execution_count": 9,
   "metadata": {},
   "outputs": [],
   "source": [
    "# Create the Step table.\n",
    "# Run this ONLY ONCE IN PRODUCTION!\n",
    "\n",
    "# [{\n",
    "#   \"dateTime\" : \"Sat 08:03:00\",\n",
    "#   \"value\" : \"0\"\n",
    "# },\n",
    "\n",
    "# actor = ForeignKeyField(Person, backref='steps')\n",
    "# steps = IntegerField()\n",
    "# timestamp = IntegerField()\n",
    "\n",
    "def createStepdb():\n",
    "    # Run this ONCE!\n",
    "    db.create_tables([Step])\n",
    "    \n",
    "    with open(stepdata, 'r') as f:\n",
    "        json_text = f.read()\n",
    "\n",
    "    step_list = json.loads(json_text)\n",
    "\n",
    "    for rec in step_list:\n",
    "        secs = gimmeSeconds(rec['dateTime'], thefmt=\"%a %H:%M:%S\")\n",
    "        val = rec['value']\n",
    "#         print(\"Step.create(actor=\",other, \"timestamp=\",secs,\" steps=\",val,\"))\")\n",
    "        steps = Step.create(actor=other, timestamp=secs, steps=val)\n",
    "        steps.save()\n",
    "\n",
    "createStepdb()"
   ]
  },
  {
   "cell_type": "code",
   "execution_count": 10,
   "metadata": {},
   "outputs": [],
   "source": [
    "def createTimepointdb():\n",
    "    # Run this ONCE!\n",
    "    db.create_tables([Timepoint])\n",
    "    \n",
    "    with open(timepointdata, 'r') as csvfile:\n",
    "        csvreader = csv.reader(csvfile)\n",
    "        # This skips the first row of the CSV file.\n",
    "        next(csvreader)\n",
    "        for row in csvreader:\n",
    "#             print( gimmeSeconds(thetime=row[0]), float(row[3]), float(row[4]) )\n",
    "            # Start Time,End Time,Name,Latitude,Longitude\n",
    "    #         actor = ForeignKeyField(Person, backref='timepoints')\n",
    "    #         timestamp = TimestampField()\n",
    "    #         point = CharField()\n",
    "    #         mode = CharField()\n",
    "            mypoint = Point(float(row[3]), float(row[4]))\n",
    "            tp = Timepoint.create(actor=other, timestamp=gimmeSeconds(thetime=row[0]), point=dumps(mypoint), mode=\"WALK\")\n",
    "            tp.save()\n",
    "\n",
    "createTimepointdb()"
   ]
  },
  {
   "cell_type": "code",
   "execution_count": 11,
   "metadata": {},
   "outputs": [],
   "source": [
    "# You don't want to run these on every query!\n",
    "heartrate_keylist = []\n",
    "q = Heart.select(Heart.timestamp)\n",
    "for t in q:\n",
    "    heartrate_keylist.append( int(t.timestamp) )\n",
    "\n",
    "# You don't want to run this on every query\n",
    "step_keylist = []\n",
    "q = Step.select(Step.timestamp)\n",
    "for t in q:\n",
    "    step_keylist.append( int(t.timestamp) )"
   ]
  },
  {
   "cell_type": "code",
   "execution_count": 12,
   "metadata": {},
   "outputs": [
    {
     "name": "stdout",
     "output_type": "stream",
     "text": [
      "secs since mid 45984 closest key, bpm (45990, 69)\n"
     ]
    }
   ],
   "source": [
    "# what's our heart rate?\n",
    "print(\"secs since mid\",gimmecurseconds(),\"closest key, bpm\",gimmeclosestkv(heartrate_keylist))"
   ]
  },
  {
   "cell_type": "code",
   "execution_count": 13,
   "metadata": {},
   "outputs": [
    {
     "name": "stdout",
     "output_type": "stream",
     "text": [
      "secs since mid 45986 closest key, bpm (55635, 'POINT (37.9219837557683022 -122.5306205502329959)')\n"
     ]
    }
   ],
   "source": [
    "# what's our location?\n",
    "print(\"secs since mid\",gimmecurseconds(),\"closest key, bpm\",gimmeclosestplace())"
   ]
  },
  {
   "cell_type": "code",
   "execution_count": 15,
   "metadata": {},
   "outputs": [
    {
     "name": "stdout",
     "output_type": "stream",
     "text": [
      "secs since mid 46123 closest key, steps (46560, 0)\n"
     ]
    }
   ],
   "source": [
    "# How many steps did we take?\n",
    "print(\"secs since mid\",gimmecurseconds(),\"closest key, steps\",gimmecurrsteps(step_keylist))"
   ]
  },
  {
   "cell_type": "code",
   "execution_count": null,
   "metadata": {},
   "outputs": [],
   "source": []
  }
 ],
 "metadata": {
  "kernelspec": {
   "display_name": "Python 3",
   "language": "python",
   "name": "python3"
  },
  "language_info": {
   "codemirror_mode": {
    "name": "ipython",
    "version": 3
   },
   "file_extension": ".py",
   "mimetype": "text/x-python",
   "name": "python",
   "nbconvert_exporter": "python",
   "pygments_lexer": "ipython3",
   "version": "3.7.3"
  }
 },
 "nbformat": 4,
 "nbformat_minor": 2
}
