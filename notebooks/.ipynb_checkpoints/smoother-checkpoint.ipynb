{
 "cells": [
  {
   "cell_type": "code",
   "execution_count": 177,
   "metadata": {},
   "outputs": [],
   "source": [
    "import logging\n",
    "import threading\n",
    "from datetime import datetime, date, timedelta, time\n",
    "import json\n",
    "from geojson import LineString, MultiLineString, Feature, Point, FeatureCollection\n",
    "\n",
    "from vars import pulses, trips, times\n",
    "\n",
    "heartrate_file = \"../data/heart_rate-2019-01-06.json\"\n",
    "pulserecord = {}\n",
    "\n",
    "with open(heartrate_file) as json_file:  \n",
    "    data = json.load(json_file)\n",
    "    for p in data:\n",
    "        do = datetime.strptime(p['dateTime'], '%m/%d/%y %H:%M:%S')\n",
    "        myseconds = (do.hour*3600)+(do.minute*60)+(do.second)\n",
    "        pulserecord[myseconds]=str(p['value']['bpm'])\n",
    "\n",
    "sortedpulse = dict(sorted(pulserecord.items()))\n",
    "\n",
    "\n",
    "def time_in_range(start, end, x):\n",
    "    \"\"\"Return true if x is in the range [start, end]\"\"\"\n",
    "    if start <= end:\n",
    "        return start <= x <= end\n",
    "    else:\n",
    "        return start <= x or x <= end"
   ]
  },
  {
   "cell_type": "code",
   "execution_count": 178,
   "metadata": {},
   "outputs": [],
   "source": [
    "sortedpulse = dict(sorted(pulserecord.items()))"
   ]
  },
  {
   "cell_type": "code",
   "execution_count": 220,
   "metadata": {},
   "outputs": [],
   "source": [
    "def gimmeTimedelta(s):\n",
    "    return int(timedelta(hours=s.hour, minutes=s.minute, seconds=s.second).total_seconds())\n",
    "\n",
    "def gimmeLongLat(stups):\n",
    "    # ugh, must reverse lat and lng\n",
    "    revtups = []\n",
    "    for tup in stups:\n",
    "        revtups.append(tup[::-1])\n",
    "    print(revtups)\n",
    "    return revtups\n",
    "\n",
    "def gimmeGeojson(atrip,myloc):\n",
    "    feature_collection = []\n",
    "    # ugh, must reverse lat and lng\n",
    "    revtups = gimmeLongLat(atrip)\n",
    "    myline = LineString(revtups)\n",
    "    mylocrev = Point( gimmeLongLat([myloc])[0] )\n",
    "    mylocrevfeature = Feature(geometry=mylocrev,name=\"my current point\")\n",
    "    mylinefeature = Feature(geometry=myline,name=\"my trip\")\n",
    "    feature_collection = [mylocrevfeature,mylinefeature]\n",
    "    myfeaturecollection = FeatureCollection(feature_collection)\n",
    "    return myfeaturecollection\n",
    "\n",
    "def get_curtimeslot(timeslots):\n",
    "    curtime = datetime.now().time()\n",
    "    for idx,slot in enumerate(timeslots):\n",
    "        if time_in_range(slot['start'], slot['end'], curtime):\n",
    "            myslot = idx\n",
    "            t1 = gimmeTimedelta(slot['start'])\n",
    "            t2 = gimmeTimedelta(slot['end'])\n",
    "            ct = gimmeTimedelta(curtime)\n",
    "            duration = int(t2-t1)\n",
    "            numchunks = len(trips[myslot])\n",
    "            interval = int(duration/numchunks)\n",
    "            timeintotrip = int(ct-t1)\n",
    "            for i in range( numchunks ):\n",
    "                chunkpoint = int(interval * i)\n",
    "                if (timeintotrip > chunkpoint) and (timeintotrip-chunkpoint < interval):\n",
    "                    myloc = trips[myslot][i]\n",
    "            myfeaturecollection = gimmeGeojson(trips[myslot],myloc)\n",
    "    return(curtime,myslot,duration,timeintotrip,myloc,myfeaturecollection)"
   ]
  },
  {
   "cell_type": "code",
   "execution_count": 221,
   "metadata": {},
   "outputs": [
    {
     "name": "stdout",
     "output_type": "stream",
     "text": [
      "[(-76.66676, 39.18099), (-76.66676, 39.18099), (-76.66584, 39.180187)]\n",
      "[(-76.66584, 39.180187)]\n",
      "curtime: 15:01:54.348289 myslot: 7 duration: 20981 timeintotrip: 17121 myloc: (39.180187, -76.66584)\n"
     ]
    }
   ],
   "source": [
    "curtime,myslot,duration,timeintotrip,myloc,myfeaturecollection = get_curtimeslot(times)\n",
    "\n",
    "print('curtime:',curtime,'myslot:',myslot,'duration:',duration,'timeintotrip:',timeintotrip,'myloc:',myloc)"
   ]
  },
  {
   "cell_type": "code",
   "execution_count": 222,
   "metadata": {},
   "outputs": [
    {
     "data": {
      "text/plain": [
       "{\"features\": [{\"geometry\": {\"coordinates\": [-76.66584, 39.180187], \"type\": \"Point\"}, \"name\": \"my current point\", \"properties\": {}, \"type\": \"Feature\"}, {\"geometry\": {\"coordinates\": [[-76.66676, 39.18099], [-76.66676, 39.18099], [-76.66584, 39.180187]], \"type\": \"LineString\"}, \"name\": \"my trip\", \"properties\": {}, \"type\": \"Feature\"}], \"type\": \"FeatureCollection\"}"
      ]
     },
     "execution_count": 222,
     "metadata": {},
     "output_type": "execute_result"
    }
   ],
   "source": [
    "myfeaturecollection"
   ]
  },
  {
   "cell_type": "code",
   "execution_count": 218,
   "metadata": {},
   "outputs": [],
   "source": [
    "obj = LineString(trips[myslot])\n",
    "obj.errors()"
   ]
  },
  {
   "cell_type": "code",
   "execution_count": 219,
   "metadata": {},
   "outputs": [
    {
     "data": {
      "text/plain": [
       "{\"coordinates\": [[39.18099, -76.66676], [39.18099, -76.66676], [39.180187, -76.66584]], \"type\": \"LineString\"}"
      ]
     },
     "execution_count": 219,
     "metadata": {},
     "output_type": "execute_result"
    }
   ],
   "source": [
    "obj"
   ]
  },
  {
   "cell_type": "code",
   "execution_count": null,
   "metadata": {},
   "outputs": [],
   "source": []
  }
 ],
 "metadata": {
  "kernelspec": {
   "display_name": "Python 3",
   "language": "python",
   "name": "python3"
  },
  "language_info": {
   "codemirror_mode": {
    "name": "ipython",
    "version": 3
   },
   "file_extension": ".py",
   "mimetype": "text/x-python",
   "name": "python",
   "nbconvert_exporter": "python",
   "pygments_lexer": "ipython3",
   "version": "3.7.3"
  }
 },
 "nbformat": 4,
 "nbformat_minor": 2
}
